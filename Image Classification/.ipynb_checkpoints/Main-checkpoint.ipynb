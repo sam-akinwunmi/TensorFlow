{
 "cells": [
  {
   "cell_type": "code",
   "execution_count": 1,
   "metadata": {
    "collapsed": true
   },
   "outputs": [],
   "source": [
    "import subprocess"
   ]
  },
  {
   "cell_type": "code",
   "execution_count": null,
   "metadata": {
    "collapsed": true
   },
   "outputs": [],
   "source": [
    "# train the neural network to recognise the images\n",
    "\n",
    "# I initially ran this from the command line without specifying where the output graph and labels should be saved\n",
    "# It saved all of the output to c:/tmp and I cut/paste to this folder.\n",
    "# I dont want to run again now because it takes a long time to train, so\n",
    "# if running again check the tmp folder to make sure that nothing is saved there\n",
    "\n",
    "# I'm not so sure whether to add this \"--model_dir=/tf_files/inception\"\n",
    "\n",
    "subprocess.Popen(\"python retrain.py \\\n",
    "--image_dir tf_files/flower_photos \\\n",
    "--bottleneck_dir=tf_files/bottleneck \\\n",
    "--output_graph=tf_files/output_graph.pb \\\n",
    "--output_labels=tf_files/output_labels.txt\")"
   ]
  },
  {
   "cell_type": "code",
   "execution_count": 4,
   "metadata": {
    "collapsed": false
   },
   "outputs": [
    {
     "name": "stdout",
     "output_type": "stream",
     "text": [
      "b'tulips (score = 0.80589)\\r\\nroses (score = 0.09672)\\r\\nsunflowers (score = 0.08213)\\r\\ndaisy (score = 0.01231)\\r\\ndandelion (score = 0.00295)\\r\\n'\n"
     ]
    }
   ],
   "source": [
    "# Change main_dandelion to whatever image is downloaded to that folder to test the accuracy of the algorithm\n",
    "\n",
    "proc = subprocess.Popen(\"python label_image.py tf_files/lily.jpg\", stdout=subprocess.PIPE)\n",
    "tmp = proc.stdout.read()\n",
    "print(tmp)"
   ]
  },
  {
   "cell_type": "code",
   "execution_count": 6,
   "metadata": {
    "collapsed": false
   },
   "outputs": [
    {
     "name": "stdout",
     "output_type": "stream",
     "text": [
      "b'dandelion (score = 0.34206)\\r\\ntulips (score = 0.28276)\\r\\nroses (score = 0.17645)\\r\\ndaisy (score = 0.17180)\\r\\nsunflowers (score = 0.02693)\\r\\n'\n"
     ]
    }
   ],
   "source": [
    "# Want to test an image that isn't a flower to see whether it classifies as a flower with any confidence\n",
    "\n",
    "proc2 = subprocess.Popen(\"python label_image.py tf_files/imagenet/cropped_panda.jpg\", stdout=subprocess.PIPE)\n",
    "tmp2 = proc2.stdout.read()\n",
    "print(tmp2)"
   ]
  }
 ],
 "metadata": {
  "kernelspec": {
   "display_name": "Python 3",
   "language": "python",
   "name": "python3"
  },
  "language_info": {
   "codemirror_mode": {
    "name": "ipython",
    "version": 3
   },
   "file_extension": ".py",
   "mimetype": "text/x-python",
   "name": "python",
   "nbconvert_exporter": "python",
   "pygments_lexer": "ipython3",
   "version": "3.5.2"
  }
 },
 "nbformat": 4,
 "nbformat_minor": 2
}
